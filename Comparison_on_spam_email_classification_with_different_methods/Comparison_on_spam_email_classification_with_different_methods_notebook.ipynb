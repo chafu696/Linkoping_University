{
 "cells": [
  {
   "cell_type": "code",
   "execution_count": 1,
   "id": "314152dc-621f-445f-9b8d-541f5e8e5438",
   "metadata": {
    "id": "314152dc-621f-445f-9b8d-541f5e8e5438"
   },
   "outputs": [],
   "source": [
    "# Load the modules that are useful for solving this problem\n",
    "import numpy as np\n",
    "import pandas as pd\n",
    "from matplotlib import pyplot as plt\n",
    "import seaborn as sns\n",
    "import spacy\n",
    "from sklearn.feature_extraction.text import TfidfVectorizer\n",
    "from sklearn.base import BaseEstimator, TransformerMixin\n",
    "from sklearn.pipeline import Pipeline\n",
    "from sklearn.model_selection import GridSearchCV\n",
    "from sklearn.metrics import classification_report as clt\n",
    "from sklearn.svm import LinearSVC\n",
    "from sklearn.linear_model import LogisticRegression\n",
    "from sklearn.ensemble import RandomForestClassifier"
   ]
  },
  {
   "cell_type": "code",
   "execution_count": 4,
   "id": "b08c80c0-b5b0-4296-957b-ce2c511b324a",
   "metadata": {
    "id": "b08c80c0-b5b0-4296-957b-ce2c511b324a"
   },
   "outputs": [],
   "source": [
    "# Load the data\n",
    "my_data = pd.read_csv('SMS_train.csv', encoding = 'latin')\n",
    "data_test = pd.read_csv('SMS_test.csv', encoding = 'latin')"
   ]
  },
  {
   "cell_type": "code",
   "execution_count": 5,
   "id": "6291dc17-6da6-4ed1-b630-bf2dc2882228",
   "metadata": {
    "colab": {
     "base_uri": "https://localhost:8080/",
     "height": 359
    },
    "id": "6291dc17-6da6-4ed1-b630-bf2dc2882228",
    "outputId": "fcd945e1-b708-448c-a3a2-61eefe9fdc7d"
   },
   "outputs": [
    {
     "data": {
      "text/html": [
       "\n",
       "  <div id=\"df-f6cd15e7-f522-4f3c-84ad-ecc22ad0acdb\">\n",
       "    <div class=\"colab-df-container\">\n",
       "      <div>\n",
       "<style scoped>\n",
       "    .dataframe tbody tr th:only-of-type {\n",
       "        vertical-align: middle;\n",
       "    }\n",
       "\n",
       "    .dataframe tbody tr th {\n",
       "        vertical-align: top;\n",
       "    }\n",
       "\n",
       "    .dataframe thead th {\n",
       "        text-align: right;\n",
       "    }\n",
       "</style>\n",
       "<table border=\"1\" class=\"dataframe\">\n",
       "  <thead>\n",
       "    <tr style=\"text-align: right;\">\n",
       "      <th></th>\n",
       "      <th>S. No.</th>\n",
       "      <th>Message_body</th>\n",
       "      <th>Label</th>\n",
       "    </tr>\n",
       "  </thead>\n",
       "  <tbody>\n",
       "    <tr>\n",
       "      <th>0</th>\n",
       "      <td>1</td>\n",
       "      <td>Rofl. Its true to its name</td>\n",
       "      <td>Non-Spam</td>\n",
       "    </tr>\n",
       "    <tr>\n",
       "      <th>1</th>\n",
       "      <td>2</td>\n",
       "      <td>The guy did some bitching but I acted like i'd...</td>\n",
       "      <td>Non-Spam</td>\n",
       "    </tr>\n",
       "    <tr>\n",
       "      <th>2</th>\n",
       "      <td>3</td>\n",
       "      <td>Pity, * was in mood for that. So...any other s...</td>\n",
       "      <td>Non-Spam</td>\n",
       "    </tr>\n",
       "    <tr>\n",
       "      <th>3</th>\n",
       "      <td>4</td>\n",
       "      <td>Will ü b going to esplanade fr home?</td>\n",
       "      <td>Non-Spam</td>\n",
       "    </tr>\n",
       "    <tr>\n",
       "      <th>4</th>\n",
       "      <td>5</td>\n",
       "      <td>This is the 2nd time we have tried 2 contact u...</td>\n",
       "      <td>Spam</td>\n",
       "    </tr>\n",
       "    <tr>\n",
       "      <th>5</th>\n",
       "      <td>6</td>\n",
       "      <td>REMINDER FROM O2: To get 2.50 pounds free call...</td>\n",
       "      <td>Spam</td>\n",
       "    </tr>\n",
       "    <tr>\n",
       "      <th>6</th>\n",
       "      <td>7</td>\n",
       "      <td>Huh y lei...</td>\n",
       "      <td>Non-Spam</td>\n",
       "    </tr>\n",
       "    <tr>\n",
       "      <th>7</th>\n",
       "      <td>8</td>\n",
       "      <td>Why don't you wait 'til at least wednesday to ...</td>\n",
       "      <td>Non-Spam</td>\n",
       "    </tr>\n",
       "    <tr>\n",
       "      <th>8</th>\n",
       "      <td>9</td>\n",
       "      <td>Ard 6 like dat lor.</td>\n",
       "      <td>Non-Spam</td>\n",
       "    </tr>\n",
       "    <tr>\n",
       "      <th>9</th>\n",
       "      <td>10</td>\n",
       "      <td>Ok lor... Sony ericsson salesman... I ask shuh...</td>\n",
       "      <td>Non-Spam</td>\n",
       "    </tr>\n",
       "  </tbody>\n",
       "</table>\n",
       "</div>\n",
       "      <button class=\"colab-df-convert\" onclick=\"convertToInteractive('df-f6cd15e7-f522-4f3c-84ad-ecc22ad0acdb')\"\n",
       "              title=\"Convert this dataframe to an interactive table.\"\n",
       "              style=\"display:none;\">\n",
       "        \n",
       "  <svg xmlns=\"http://www.w3.org/2000/svg\" height=\"24px\"viewBox=\"0 0 24 24\"\n",
       "       width=\"24px\">\n",
       "    <path d=\"M0 0h24v24H0V0z\" fill=\"none\"/>\n",
       "    <path d=\"M18.56 5.44l.94 2.06.94-2.06 2.06-.94-2.06-.94-.94-2.06-.94 2.06-2.06.94zm-11 1L8.5 8.5l.94-2.06 2.06-.94-2.06-.94L8.5 2.5l-.94 2.06-2.06.94zm10 10l.94 2.06.94-2.06 2.06-.94-2.06-.94-.94-2.06-.94 2.06-2.06.94z\"/><path d=\"M17.41 7.96l-1.37-1.37c-.4-.4-.92-.59-1.43-.59-.52 0-1.04.2-1.43.59L10.3 9.45l-7.72 7.72c-.78.78-.78 2.05 0 2.83L4 21.41c.39.39.9.59 1.41.59.51 0 1.02-.2 1.41-.59l7.78-7.78 2.81-2.81c.8-.78.8-2.07 0-2.86zM5.41 20L4 18.59l7.72-7.72 1.47 1.35L5.41 20z\"/>\n",
       "  </svg>\n",
       "      </button>\n",
       "      \n",
       "  <style>\n",
       "    .colab-df-container {\n",
       "      display:flex;\n",
       "      flex-wrap:wrap;\n",
       "      gap: 12px;\n",
       "    }\n",
       "\n",
       "    .colab-df-convert {\n",
       "      background-color: #E8F0FE;\n",
       "      border: none;\n",
       "      border-radius: 50%;\n",
       "      cursor: pointer;\n",
       "      display: none;\n",
       "      fill: #1967D2;\n",
       "      height: 32px;\n",
       "      padding: 0 0 0 0;\n",
       "      width: 32px;\n",
       "    }\n",
       "\n",
       "    .colab-df-convert:hover {\n",
       "      background-color: #E2EBFA;\n",
       "      box-shadow: 0px 1px 2px rgba(60, 64, 67, 0.3), 0px 1px 3px 1px rgba(60, 64, 67, 0.15);\n",
       "      fill: #174EA6;\n",
       "    }\n",
       "\n",
       "    [theme=dark] .colab-df-convert {\n",
       "      background-color: #3B4455;\n",
       "      fill: #D2E3FC;\n",
       "    }\n",
       "\n",
       "    [theme=dark] .colab-df-convert:hover {\n",
       "      background-color: #434B5C;\n",
       "      box-shadow: 0px 1px 3px 1px rgba(0, 0, 0, 0.15);\n",
       "      filter: drop-shadow(0px 1px 2px rgba(0, 0, 0, 0.3));\n",
       "      fill: #FFFFFF;\n",
       "    }\n",
       "  </style>\n",
       "\n",
       "      <script>\n",
       "        const buttonEl =\n",
       "          document.querySelector('#df-f6cd15e7-f522-4f3c-84ad-ecc22ad0acdb button.colab-df-convert');\n",
       "        buttonEl.style.display =\n",
       "          google.colab.kernel.accessAllowed ? 'block' : 'none';\n",
       "\n",
       "        async function convertToInteractive(key) {\n",
       "          const element = document.querySelector('#df-f6cd15e7-f522-4f3c-84ad-ecc22ad0acdb');\n",
       "          const dataTable =\n",
       "            await google.colab.kernel.invokeFunction('convertToInteractive',\n",
       "                                                     [key], {});\n",
       "          if (!dataTable) return;\n",
       "\n",
       "          const docLinkHtml = 'Like what you see? Visit the ' +\n",
       "            '<a target=\"_blank\" href=https://colab.research.google.com/notebooks/data_table.ipynb>data table notebook</a>'\n",
       "            + ' to learn more about interactive tables.';\n",
       "          element.innerHTML = '';\n",
       "          dataTable['output_type'] = 'display_data';\n",
       "          await google.colab.output.renderOutput(dataTable, element);\n",
       "          const docLink = document.createElement('div');\n",
       "          docLink.innerHTML = docLinkHtml;\n",
       "          element.appendChild(docLink);\n",
       "        }\n",
       "      </script>\n",
       "    </div>\n",
       "  </div>\n",
       "  "
      ],
      "text/plain": [
       "   S. No.                                       Message_body     Label\n",
       "0       1                         Rofl. Its true to its name  Non-Spam\n",
       "1       2  The guy did some bitching but I acted like i'd...  Non-Spam\n",
       "2       3  Pity, * was in mood for that. So...any other s...  Non-Spam\n",
       "3       4               Will ü b going to esplanade fr home?  Non-Spam\n",
       "4       5  This is the 2nd time we have tried 2 contact u...      Spam\n",
       "5       6  REMINDER FROM O2: To get 2.50 pounds free call...      Spam\n",
       "6       7                                       Huh y lei...  Non-Spam\n",
       "7       8  Why don't you wait 'til at least wednesday to ...  Non-Spam\n",
       "8       9                                Ard 6 like dat lor.  Non-Spam\n",
       "9      10  Ok lor... Sony ericsson salesman... I ask shuh...  Non-Spam"
      ]
     },
     "execution_count": 5,
     "metadata": {},
     "output_type": "execute_result"
    }
   ],
   "source": [
    "# Overview the data\n",
    "my_data.head(10)"
   ]
  },
  {
   "cell_type": "code",
   "execution_count": 6,
   "id": "efbcf36c-a7ec-419c-9e34-47a2b9f17547",
   "metadata": {
    "colab": {
     "base_uri": "https://localhost:8080/",
     "height": 404
    },
    "id": "efbcf36c-a7ec-419c-9e34-47a2b9f17547",
    "outputId": "454a3145-f4b0-4c8c-a041-c96a7f8dc689",
    "tags": []
   },
   "outputs": [
    {
     "data": {
      "image/png": "[encoded data removed]",
      "text/plain": [
       "<Figure size 432x288 with 1 Axes>"
      ]
     },
     "metadata": {
      "needs_background": "light"
     },
     "output_type": "display_data"
    },
    {
     "data": {
      "text/html": [
       "\n",
       "  <div id=\"df-4e3e16b8-aa44-4098-a8ae-5651e6f7dc63\">\n",
       "    <div class=\"colab-df-container\">\n",
       "      <div>\n",
       "<style scoped>\n",
       "    .dataframe tbody tr th:only-of-type {\n",
       "        vertical-align: middle;\n",
       "    }\n",
       "\n",
       "    .dataframe tbody tr th {\n",
       "        vertical-align: top;\n",
       "    }\n",
       "\n",
       "    .dataframe thead th {\n",
       "        text-align: right;\n",
       "    }\n",
       "</style>\n",
       "<table border=\"1\" class=\"dataframe\">\n",
       "  <thead>\n",
       "    <tr style=\"text-align: right;\">\n",
       "      <th></th>\n",
       "      <th>S. No.</th>\n",
       "      <th>Message_body</th>\n",
       "    </tr>\n",
       "    <tr>\n",
       "      <th>Label</th>\n",
       "      <th></th>\n",
       "      <th></th>\n",
       "    </tr>\n",
       "  </thead>\n",
       "  <tbody>\n",
       "    <tr>\n",
       "      <th>Non-Spam</th>\n",
       "      <td>835</td>\n",
       "      <td>835</td>\n",
       "    </tr>\n",
       "    <tr>\n",
       "      <th>Spam</th>\n",
       "      <td>122</td>\n",
       "      <td>122</td>\n",
       "    </tr>\n",
       "  </tbody>\n",
       "</table>\n",
       "</div>\n",
       "      <button class=\"colab-df-convert\" onclick=\"convertToInteractive('df-4e3e16b8-aa44-4098-a8ae-5651e6f7dc63')\"\n",
       "              title=\"Convert this dataframe to an interactive table.\"\n",
       "              style=\"display:none;\">\n",
       "        \n",
       "  <svg xmlns=\"http://www.w3.org/2000/svg\" height=\"24px\"viewBox=\"0 0 24 24\"\n",
       "       width=\"24px\">\n",
       "    <path d=\"M0 0h24v24H0V0z\" fill=\"none\"/>\n",
       "    <path d=\"M18.56 5.44l.94 2.06.94-2.06 2.06-.94-2.06-.94-.94-2.06-.94 2.06-2.06.94zm-11 1L8.5 8.5l.94-2.06 2.06-.94-2.06-.94L8.5 2.5l-.94 2.06-2.06.94zm10 10l.94 2.06.94-2.06 2.06-.94-2.06-.94-.94-2.06-.94 2.06-2.06.94z\"/><path d=\"M17.41 7.96l-1.37-1.37c-.4-.4-.92-.59-1.43-.59-.52 0-1.04.2-1.43.59L10.3 9.45l-7.72 7.72c-.78.78-.78 2.05 0 2.83L4 21.41c.39.39.9.59 1.41.59.51 0 1.02-.2 1.41-.59l7.78-7.78 2.81-2.81c.8-.78.8-2.07 0-2.86zM5.41 20L4 18.59l7.72-7.72 1.47 1.35L5.41 20z\"/>\n",
       "  </svg>\n",
       "      </button>\n",
       "      \n",
       "  <style>\n",
       "    .colab-df-container {\n",
       "      display:flex;\n",
       "      flex-wrap:wrap;\n",
       "      gap: 12px;\n",
       "    }\n",
       "\n",
       "    .colab-df-convert {\n",
       "      background-color: #E8F0FE;\n",
       "      border: none;\n",
       "      border-radius: 50%;\n",
       "      cursor: pointer;\n",
       "      display: none;\n",
       "      fill: #1967D2;\n",
       "      height: 32px;\n",
       "      padding: 0 0 0 0;\n",
       "      width: 32px;\n",
       "    }\n",
       "\n",
       "    .colab-df-convert:hover {\n",
       "      background-color: #E2EBFA;\n",
       "      box-shadow: 0px 1px 2px rgba(60, 64, 67, 0.3), 0px 1px 3px 1px rgba(60, 64, 67, 0.15);\n",
       "      fill: #174EA6;\n",
       "    }\n",
       "\n",
       "    [theme=dark] .colab-df-convert {\n",
       "      background-color: #3B4455;\n",
       "      fill: #D2E3FC;\n",
       "    }\n",
       "\n",
       "    [theme=dark] .colab-df-convert:hover {\n",
       "      background-color: #434B5C;\n",
       "      box-shadow: 0px 1px 3px 1px rgba(0, 0, 0, 0.15);\n",
       "      filter: drop-shadow(0px 1px 2px rgba(0, 0, 0, 0.3));\n",
       "      fill: #FFFFFF;\n",
       "    }\n",
       "  </style>\n",
       "\n",
       "      <script>\n",
       "        const buttonEl =\n",
       "          document.querySelector('#df-4e3e16b8-aa44-4098-a8ae-5651e6f7dc63 button.colab-df-convert');\n",
       "        buttonEl.style.display =\n",
       "          google.colab.kernel.accessAllowed ? 'block' : 'none';\n",
       "\n",
       "        async function convertToInteractive(key) {\n",
       "          const element = document.querySelector('#df-4e3e16b8-aa44-4098-a8ae-5651e6f7dc63');\n",
       "          const dataTable =\n",
       "            await google.colab.kernel.invokeFunction('convertToInteractive',\n",
       "                                                     [key], {});\n",
       "          if (!dataTable) return;\n",
       "\n",
       "          const docLinkHtml = 'Like what you see? Visit the ' +\n",
       "            '<a target=\"_blank\" href=https://colab.research.google.com/notebooks/data_table.ipynb>data table notebook</a>'\n",
       "            + ' to learn more about interactive tables.';\n",
       "          element.innerHTML = '';\n",
       "          dataTable['output_type'] = 'display_data';\n",
       "          await google.colab.output.renderOutput(dataTable, element);\n",
       "          const docLink = document.createElement('div');\n",
       "          docLink.innerHTML = docLinkHtml;\n",
       "          element.appendChild(docLink);\n",
       "        }\n",
       "      </script>\n",
       "    </div>\n",
       "  </div>\n",
       "  "
      ],
      "text/plain": [
       "          S. No.  Message_body\n",
       "Label                         \n",
       "Non-Spam     835           835\n",
       "Spam         122           122"
      ]
     },
     "execution_count": 6,
     "metadata": {},
     "output_type": "execute_result"
    }
   ],
   "source": [
    "# Measure the number of each class\n",
    "sns.histplot(x = my_data['Label'], hue = my_data['Label'], shrink = 0.8)\n",
    "plt.show()\n",
    "my_data.groupby('Label').count()"
   ]
  },
  {
   "cell_type": "code",
   "execution_count": 7,
   "id": "3828af27-30c5-4bfc-b880-932c7d540479",
   "metadata": {
    "id": "3828af27-30c5-4bfc-b880-932c7d540479"
   },
   "outputs": [],
   "source": [
    "# Measure 3 different dataset: imbalanced, oversampling, undersampling\n",
    "data_ini = my_data.copy()\n",
    "\n",
    "df1 = my_data.query(\"Label == 'Spam'\")\n",
    "df2 = my_data.query(\"Label == 'Non-Spam'\")\n",
    "indover = np.random.choice(df1.index, 835, replace = True)\n",
    "dfover = my_data.iloc[indover]\n",
    "indunder = np.random.choice(df2.index, 122, replace = False)\n",
    "dfunder = my_data.iloc[indunder]\n",
    "\n",
    "data_over = pd.concat([df2, dfover], axis = 0, ignore_index = True)\n",
    "data_under = pd.concat([df1, dfunder], axis = 0, ignore_index = True)"
   ]
  },
  {
   "cell_type": "code",
   "execution_count": 8,
   "id": "fb24fbc8-0d9b-4e64-b260-338262b0e419",
   "metadata": {
    "id": "fb24fbc8-0d9b-4e64-b260-338262b0e419"
   },
   "outputs": [],
   "source": [
    "# Word Embedding Function\n",
    "\n",
    "\n",
    "nlp = spacy.load(\"en_core_web_lg\", disable = [\"parser\", \"ner\"])\n",
    "\n",
    "class PairedSentenceVectorizer(BaseEstimator, TransformerMixin):\n",
    "    def __init__(self):\n",
    "        pass\n",
    "\n",
    "    def fit(self, X, y=None):\n",
    "        return self\n",
    "\n",
    "    # Vectorize a single sentence.\n",
    "    def _transform1(self, sentence):\n",
    "        \n",
    "        words = sentence.split()\n",
    "        vectors = np.zeros(nlp.vocab.vectors.shape[1])\n",
    "        for i in words:\n",
    "            vectors = vectors + nlp.vocab[i].vector\n",
    "        return vectors\n",
    "\n",
    "    # Vectorize a single row of the dataframe.\n",
    "    def _transform2(self, row):\n",
    "\n",
    "        vector1 = np.zeros(nlp.vocab.vectors.shape[1])\n",
    "        vector1[0 : nlp.vocab.vectors.shape[1]] = self._transform1(row[2])\n",
    "        return vector1\n",
    "\n",
    "    def transform(self, X):\n",
    "        return np.concatenate(\n",
    "            [self._transform2(row).reshape(1, -1) for row in X.itertuples()])"
   ]
  },
  {
   "cell_type": "code",
   "execution_count": 9,
   "id": "f7133b83-0eba-4b97-9f94-6f34e34df926",
   "metadata": {
    "id": "f7133b83-0eba-4b97-9f94-6f34e34df926"
   },
   "outputs": [],
   "source": [
    "# Method 1 Logistic Regression, Tf-idf to determine the best parameters, original dataset\n",
    "\n",
    "def my_lr(data1, data2):\n",
    "    pipe_1 = Pipeline(\n",
    "        [('tfidf', TfidfVectorizer()),\n",
    "         ('lr', LogisticRegression())])\n",
    "\n",
    "    param_1 = {\n",
    "        'tfidf__binary': (True, False),\n",
    "        'tfidf__ngram_range': ((1, 1), (1, 2)),\n",
    "        'lr__solver': ('newton-cg', 'lbfgs'),\n",
    "        'lr__C': (1, 3)}\n",
    "\n",
    "    grid_1 = GridSearchCV(pipe_1, param_1, cv = 5, verbose = 0, n_jobs = -1)\n",
    "    grid_1.fit(data1['Message_body'], data1['Label'])\n",
    "    test = grid_1.predict(X = data2['Message_body'])\n",
    "\n",
    "    print(\"The best model :\")\n",
    "    print(grid_1.best_params_)\n",
    "    print(\"The result :\")\n",
    "    print(clt(y_true = data2['Label'], y_pred = test))"
   ]
  },
  {
   "cell_type": "code",
   "execution_count": null,
   "id": "b5e04d3b-bc62-462c-8955-01b9119fd588",
   "metadata": {
    "colab": {
     "base_uri": "https://localhost:8080/"
    },
    "id": "b5e04d3b-bc62-462c-8955-01b9119fd588",
    "outputId": "aa9f4295-2c88-4727-efed-5fc4a06314df"
   },
   "outputs": [
    {
     "name": "stdout",
     "output_type": "stream",
     "text": [
      "The best model :\n",
      "{'lr__C': 3, 'lr__solver': 'newton-cg', 'tfidf__binary': True, 'tfidf__ngram_range': (1, 1)}\n",
      "The result :\n",
      "              precision    recall  f1-score   support\n",
      "\n",
      "    Non-Spam       0.65      1.00      0.79        49\n",
      "        Spam       1.00      0.66      0.79        76\n",
      "\n",
      "    accuracy                           0.79       125\n",
      "   macro avg       0.83      0.83      0.79       125\n",
      "weighted avg       0.86      0.79      0.79       125\n",
      "\n"
     ]
    }
   ],
   "source": [
    "my_lr(data_ini, data_test)"
   ]
  },
  {
   "cell_type": "code",
   "execution_count": null,
   "id": "8d62e5a0-4f98-4cae-a626-c2ca2fbb0c30",
   "metadata": {
    "id": "8d62e5a0-4f98-4cae-a626-c2ca2fbb0c30"
   },
   "outputs": [],
   "source": [
    "# Method 1 Logistic Regression, Tf-idf, best parameters\n",
    "\n",
    "def my_lr_best(data1, data2):\n",
    "    tfidfvec = TfidfVectorizer(binary = True)\n",
    "    logr = LogisticRegression(C = 3, solver = 'newton-cg')\n",
    "    \n",
    "    pipe = Pipeline(\n",
    "        [('tfidf', tfidfvec),\n",
    "         ('lr', logr)])\n",
    "    pipe.fit(data1['Message_body'], data1['Label'])\n",
    "    test= pipe.predict(X = data2['Message_body'])\n",
    "    \n",
    "    print(\"The result :\")\n",
    "    print(clt(y_true = data2['Label'], y_pred = test))"
   ]
  },
  {
   "cell_type": "code",
   "execution_count": null,
   "id": "393c49e6-0de5-4862-9a0b-05154dd27eb6",
   "metadata": {
    "colab": {
     "base_uri": "https://localhost:8080/"
    },
    "id": "393c49e6-0de5-4862-9a0b-05154dd27eb6",
    "outputId": "b9162339-1cff-4fc1-8011-11a8c75d3d07"
   },
   "outputs": [
    {
     "name": "stdout",
     "output_type": "stream",
     "text": [
      "The result :\n",
      "              precision    recall  f1-score   support\n",
      "\n",
      "    Non-Spam       0.81      0.96      0.88        49\n",
      "        Spam       0.97      0.86      0.91        76\n",
      "\n",
      "    accuracy                           0.90       125\n",
      "   macro avg       0.89      0.91      0.89       125\n",
      "weighted avg       0.91      0.90      0.90       125\n",
      "\n"
     ]
    }
   ],
   "source": [
    "# Method 1 Logistic Regression, Tf-idf, best parameters, oversampling dataset\n",
    "my_lr_best(data_over, data_test)"
   ]
  },
  {
   "cell_type": "code",
   "execution_count": null,
   "id": "694c6a8a-aa11-47f0-a140-77679eeab690",
   "metadata": {
    "colab": {
     "base_uri": "https://localhost:8080/"
    },
    "id": "694c6a8a-aa11-47f0-a140-77679eeab690",
    "outputId": "33db71a2-b38e-4599-e46b-d7c058739e14"
   },
   "outputs": [
    {
     "name": "stdout",
     "output_type": "stream",
     "text": [
      "The result :\n",
      "              precision    recall  f1-score   support\n",
      "\n",
      "    Non-Spam       0.92      0.96      0.94        49\n",
      "        Spam       0.97      0.95      0.96        76\n",
      "\n",
      "    accuracy                           0.95       125\n",
      "   macro avg       0.95      0.95      0.95       125\n",
      "weighted avg       0.95      0.95      0.95       125\n",
      "\n"
     ]
    }
   ],
   "source": [
    "# Method 1 Logistic Regression, Tf-idf, best parameters, undersampling dataset\n",
    "my_lr_best(data_under, data_test)"
   ]
  },
  {
   "cell_type": "code",
   "execution_count": null,
   "id": "ab41081c-5ddb-4e97-88ef-17450e6fba45",
   "metadata": {
    "id": "ab41081c-5ddb-4e97-88ef-17450e6fba45"
   },
   "outputs": [],
   "source": [
    "# Method 1 Logistic Regression : words embedding to determine the best parameters, \n",
    "# original dataset\n",
    "\n",
    "def my_lr_em(data1, data2):\n",
    "    psv = PairedSentenceVectorizer()\n",
    "    x_em1 = psv.fit_transform(data1)\n",
    "    x_em2 = psv.fit_transform(data2)\n",
    "    pipe_1 = Pipeline(\n",
    "        [('lr', LogisticRegression(max_iter = 200))])\n",
    "\n",
    "    param_1 = {\n",
    "        'lr__solver': ('newton-cg', 'lbfgs'),\n",
    "        'lr__C': (0.1, 1)}\n",
    "\n",
    "    grid_1 = GridSearchCV(pipe_1, param_1, cv = 5, verbose = 0, n_jobs = -1)\n",
    "    grid_1.fit(x_em1, data1['Label'])\n",
    "    test = grid_1.predict(X = x_em2)\n",
    "\n",
    "    print(\"The best model :\")\n",
    "    print(grid_1.best_params_)\n",
    "    print(\"The result :\")\n",
    "    print(clt(y_true = data2['Label'], y_pred = test))"
   ]
  },
  {
   "cell_type": "code",
   "execution_count": null,
   "id": "bae05ab2-c71a-4b6f-9c31-4d5264e9e04b",
   "metadata": {
    "colab": {
     "base_uri": "https://localhost:8080/"
    },
    "id": "bae05ab2-c71a-4b6f-9c31-4d5264e9e04b",
    "outputId": "5ba4eeaf-d4b6-42a1-95ee-64a1bbbed95c"
   },
   "outputs": [
    {
     "name": "stdout",
     "output_type": "stream",
     "text": [
      "The best model :\n",
      "{'lr__C': 0.1, 'lr__solver': 'newton-cg'}\n",
      "The result :\n",
      "              precision    recall  f1-score   support\n",
      "\n",
      "    Non-Spam       0.79      1.00      0.88        49\n",
      "        Spam       1.00      0.83      0.91        76\n",
      "\n",
      "    accuracy                           0.90       125\n",
      "   macro avg       0.90      0.91      0.89       125\n",
      "weighted avg       0.92      0.90      0.90       125\n",
      "\n"
     ]
    }
   ],
   "source": [
    "my_lr_em(data_ini, data_test)"
   ]
  },
  {
   "cell_type": "code",
   "execution_count": null,
   "id": "80557ee9-0947-4825-afa0-2af75ee047bc",
   "metadata": {
    "id": "80557ee9-0947-4825-afa0-2af75ee047bc"
   },
   "outputs": [],
   "source": [
    "# Method 1 Logistic Regression, wrod embedding, best parameters\n",
    "\n",
    "def my_lr_em_best(data1, data2):\n",
    "    psv = PairedSentenceVectorizer()\n",
    "    x_em1 = psv.fit_transform(data1)\n",
    "    x_em2 = psv.fit_transform(data2)\n",
    "    logr = LogisticRegression(C = 0.1, solver = 'newton-cg', max_iter = 500)\n",
    "    pipe = Pipeline([('lr', logr)])\n",
    "    pipe.fit(x_em1, data1['Label'])\n",
    "    test= pipe.predict(X = x_em2)\n",
    "    \n",
    "    print(\"The result :\")\n",
    "    print(clt(y_true = data2['Label'], y_pred = test))"
   ]
  },
  {
   "cell_type": "code",
   "execution_count": null,
   "id": "3600307e-52cc-4b5b-a8b6-baa879d76170",
   "metadata": {
    "colab": {
     "base_uri": "https://localhost:8080/"
    },
    "id": "3600307e-52cc-4b5b-a8b6-baa879d76170",
    "outputId": "dba8db2a-56c4-4205-8d46-a4259a994ff1"
   },
   "outputs": [
    {
     "name": "stdout",
     "output_type": "stream",
     "text": [
      "The result :\n",
      "              precision    recall  f1-score   support\n",
      "\n",
      "    Non-Spam       0.83      1.00      0.91        49\n",
      "        Spam       1.00      0.87      0.93        76\n",
      "\n",
      "    accuracy                           0.92       125\n",
      "   macro avg       0.92      0.93      0.92       125\n",
      "weighted avg       0.93      0.92      0.92       125\n",
      "\n"
     ]
    }
   ],
   "source": [
    "# Method 1 Logistic Regression, word embedding, best parameters, oversampling dataset\n",
    "my_lr_em_best(data_over, data_test)"
   ]
  },
  {
   "cell_type": "code",
   "execution_count": null,
   "id": "9902ac09-cc5d-49d9-ab60-472a1f4f6331",
   "metadata": {
    "colab": {
     "base_uri": "https://localhost:8080/"
    },
    "id": "9902ac09-cc5d-49d9-ab60-472a1f4f6331",
    "outputId": "2cf41c93-11f0-4735-8af2-d87beb114c01"
   },
   "outputs": [
    {
     "name": "stdout",
     "output_type": "stream",
     "text": [
      "The result :\n",
      "              precision    recall  f1-score   support\n",
      "\n",
      "    Non-Spam       0.87      0.98      0.92        49\n",
      "        Spam       0.99      0.91      0.95        76\n",
      "\n",
      "    accuracy                           0.94       125\n",
      "   macro avg       0.93      0.94      0.93       125\n",
      "weighted avg       0.94      0.94      0.94       125\n",
      "\n"
     ]
    }
   ],
   "source": [
    "# Method 1 Logistic Regression, word embedding, best parameters, undersampling dataset\n",
    "my_lr_em_best(data_under, data_test)"
   ]
  },
  {
   "cell_type": "code",
   "execution_count": null,
   "id": "7a5f194b-8a4f-4acb-acae-b1d1e3cdce3c",
   "metadata": {
    "id": "7a5f194b-8a4f-4acb-acae-b1d1e3cdce3c"
   },
   "outputs": [],
   "source": [
    "# Method 2 Support Vector Machine, Tf-idf to determine best parameters, original dataset\n",
    "\n",
    "def my_svm(data1, data2):\n",
    "    pipe_1 = Pipeline(\n",
    "        [('tfidf', TfidfVectorizer()),\n",
    "         ('svm', LinearSVC())])\n",
    "\n",
    "    param_1 = {\n",
    "        'tfidf__binary': (True, False),\n",
    "        'tfidf__ngram_range': ((1, 1), (1, 2)),\n",
    "        'svm__loss': ('hinge', 'squared_hinge'),\n",
    "        'svm__C' : (1, 3)}\n",
    "\n",
    "    grid_1 = GridSearchCV(pipe_1, param_1, cv = 5, verbose = 0, n_jobs = -1)\n",
    "    grid_1.fit(data1['Message_body'], data1['Label'])\n",
    "    test = grid_1.predict(X = data2['Message_body'])\n",
    "\n",
    "    print(\"The best model :\")\n",
    "    print(grid_1.best_params_)\n",
    "    print(\"The result :\")\n",
    "    print(clt(y_true = data2['Label'], y_pred = test))"
   ]
  },
  {
   "cell_type": "code",
   "execution_count": null,
   "id": "2533ab21-2ebd-43bc-80bd-d2b4405e3dae",
   "metadata": {
    "colab": {
     "base_uri": "https://localhost:8080/"
    },
    "id": "2533ab21-2ebd-43bc-80bd-d2b4405e3dae",
    "outputId": "ee539618-6c95-45ed-aa33-2bae35b64f50"
   },
   "outputs": [
    {
     "name": "stdout",
     "output_type": "stream",
     "text": [
      "The best model :\n",
      "{'svm__C': 3, 'svm__loss': 'hinge', 'tfidf__binary': True, 'tfidf__ngram_range': (1, 2)}\n",
      "The result :\n",
      "              precision    recall  f1-score   support\n",
      "\n",
      "    Non-Spam       0.83      1.00      0.91        49\n",
      "        Spam       1.00      0.87      0.93        76\n",
      "\n",
      "    accuracy                           0.92       125\n",
      "   macro avg       0.92      0.93      0.92       125\n",
      "weighted avg       0.93      0.92      0.92       125\n",
      "\n"
     ]
    }
   ],
   "source": [
    "my_svm(data_ini, data_test)"
   ]
  },
  {
   "cell_type": "code",
   "execution_count": null,
   "id": "d84a4c92-3dad-4c8b-941e-49203c535fe2",
   "metadata": {
    "id": "d84a4c92-3dad-4c8b-941e-49203c535fe2"
   },
   "outputs": [],
   "source": [
    "# Method 2 Support Vector Machine, Tf-idf, best parameters\n",
    "\n",
    "def my_svm_best(data1, data2):\n",
    "    \n",
    "    tfidfvec = TfidfVectorizer(binary = True, ngram_range = (1, 2))\n",
    "    lsvm = LinearSVC(C = 3, loss = 'hinge')\n",
    "    \n",
    "    pipe = Pipeline(\n",
    "        [('tfidf', tfidfvec),\n",
    "         ('svm', lsvm)])\n",
    "    pipe.fit(data1['Message_body'], data1['Label'])\n",
    "    test= pipe.predict(X = data2['Message_body'])\n",
    "    \n",
    "    print(\"The result :\")\n",
    "    print(clt(y_true = data2['Label'], y_pred = test))"
   ]
  },
  {
   "cell_type": "code",
   "execution_count": null,
   "id": "6a5b30f4-2b42-4da9-bdce-1a3e29934274",
   "metadata": {
    "colab": {
     "base_uri": "https://localhost:8080/"
    },
    "id": "6a5b30f4-2b42-4da9-bdce-1a3e29934274",
    "outputId": "65d28750-b2e4-4011-ceb9-1d00e1e803dc"
   },
   "outputs": [
    {
     "name": "stdout",
     "output_type": "stream",
     "text": [
      "The result :\n",
      "              precision    recall  f1-score   support\n",
      "\n",
      "    Non-Spam       0.80      1.00      0.89        49\n",
      "        Spam       1.00      0.84      0.91        76\n",
      "\n",
      "    accuracy                           0.90       125\n",
      "   macro avg       0.90      0.92      0.90       125\n",
      "weighted avg       0.92      0.90      0.91       125\n",
      "\n"
     ]
    }
   ],
   "source": [
    "# Method 2 Support Vector Machine, Tf-idf, best parameters, oversampling dataset\n",
    "\n",
    "my_svm_best(data_over, data_test)"
   ]
  },
  {
   "cell_type": "code",
   "execution_count": null,
   "id": "76642cd7-58d2-4f17-b0c7-531b5b3fcefe",
   "metadata": {
    "colab": {
     "base_uri": "https://localhost:8080/"
    },
    "id": "76642cd7-58d2-4f17-b0c7-531b5b3fcefe",
    "outputId": "85f69122-8d12-4bfb-c9e1-475733bbbf21"
   },
   "outputs": [
    {
     "name": "stdout",
     "output_type": "stream",
     "text": [
      "The result :\n",
      "              precision    recall  f1-score   support\n",
      "\n",
      "    Non-Spam       0.94      0.96      0.95        49\n",
      "        Spam       0.97      0.96      0.97        76\n",
      "\n",
      "    accuracy                           0.96       125\n",
      "   macro avg       0.96      0.96      0.96       125\n",
      "weighted avg       0.96      0.96      0.96       125\n",
      "\n"
     ]
    }
   ],
   "source": [
    "# Method 2 Support Vector Machine, Tf-idf, best parameters, undersampling dataset\n",
    "my_svm_best(data_under, data_test)"
   ]
  },
  {
   "cell_type": "code",
   "execution_count": null,
   "id": "8473f369-4d47-4e21-b03f-33f2f00f46e0",
   "metadata": {
    "id": "8473f369-4d47-4e21-b03f-33f2f00f46e0"
   },
   "outputs": [],
   "source": [
    "# Method 2 Support Vector Machine : words embedding, best parameters, original dataset \n",
    "\n",
    "def my_svm_em(data1, data2):\n",
    "    psv = PairedSentenceVectorizer()\n",
    "    x_em1 = psv.fit_transform(data1)\n",
    "    x_em2 = psv.fit_transform(data2)\n",
    "    pipe_1 = Pipeline([('svm', LinearSVC(max_iter = 6000))])\n",
    "\n",
    "    param_1 = {\n",
    "        'svm__loss': ('hinge', 'squared_hinge'),\n",
    "        'svm__C' : (0.1, 1)}\n",
    "\n",
    "    grid_1 = GridSearchCV(pipe_1, param_1, cv = 5, verbose = 0, n_jobs = -1)\n",
    "    grid_1.fit(x_em1, data1['Label'])\n",
    "    test = grid_1.predict(X = x_em2)\n",
    "\n",
    "    print(\"The best model :\")\n",
    "    print(grid_1.best_params_)\n",
    "    print(\"The result :\")\n",
    "    print(clt(y_true = data2['Label'], y_pred = test))"
   ]
  },
  {
   "cell_type": "code",
   "execution_count": null,
   "id": "493f288d-c171-4eed-b9a5-561ecc0de80f",
   "metadata": {
    "colab": {
     "base_uri": "https://localhost:8080/"
    },
    "id": "493f288d-c171-4eed-b9a5-561ecc0de80f",
    "outputId": "c7582e96-a8f8-422d-d192-d0f2640097e1"
   },
   "outputs": [
    {
     "name": "stdout",
     "output_type": "stream",
     "text": [
      "The best model :\n",
      "{'svm__C': 0.1, 'svm__loss': 'hinge'}\n",
      "The result :\n",
      "              precision    recall  f1-score   support\n",
      "\n",
      "    Non-Spam       0.76      0.98      0.86        49\n",
      "        Spam       0.98      0.80      0.88        76\n",
      "\n",
      "    accuracy                           0.87       125\n",
      "   macro avg       0.87      0.89      0.87       125\n",
      "weighted avg       0.90      0.87      0.87       125\n",
      "\n"
     ]
    }
   ],
   "source": [
    "my_svm_em(data_ini, data_test)"
   ]
  },
  {
   "cell_type": "code",
   "execution_count": null,
   "id": "fd16b8a1-1daa-448b-9c4e-262f1446e077",
   "metadata": {
    "id": "fd16b8a1-1daa-448b-9c4e-262f1446e077"
   },
   "outputs": [],
   "source": [
    "# Method 2 Support Vector Machine : words embedding, best parameters\n",
    "def my_svm_em_best(data1, data2):\n",
    "    psv = PairedSentenceVectorizer()\n",
    "    x_em1 = psv.fit_transform(data1)\n",
    "    x_em2 = psv.fit_transform(data2)\n",
    "    lsvm = LinearSVC(C = 0.1, loss = 'hinge', max_iter = 5000)\n",
    "    pipe = Pipeline([('svm', lsvm)])\n",
    "    pipe.fit(x_em1, data1['Label'])\n",
    "    test= pipe.predict(X = x_em2)\n",
    "    \n",
    "    print(\"The result :\")\n",
    "    print(clt(y_true = data2['Label'], y_pred = test))"
   ]
  },
  {
   "cell_type": "code",
   "execution_count": null,
   "id": "520d778a-d958-4bdd-89ea-f89566e27b18",
   "metadata": {
    "colab": {
     "base_uri": "https://localhost:8080/"
    },
    "id": "520d778a-d958-4bdd-89ea-f89566e27b18",
    "outputId": "2f1678fd-6295-4cf3-e973-19b22bc660eb"
   },
   "outputs": [
    {
     "name": "stdout",
     "output_type": "stream",
     "text": [
      "The result :\n",
      "              precision    recall  f1-score   support\n",
      "\n",
      "    Non-Spam       0.79      0.98      0.87        49\n",
      "        Spam       0.98      0.83      0.90        76\n",
      "\n",
      "    accuracy                           0.89       125\n",
      "   macro avg       0.89      0.90      0.89       125\n",
      "weighted avg       0.91      0.89      0.89       125\n",
      "\n"
     ]
    }
   ],
   "source": [
    "# Method 2 Support Vector Machine, word embedding, best parameters, oversampling dataset\n",
    "my_svm_em_best(data_over, data_test)"
   ]
  },
  {
   "cell_type": "code",
   "execution_count": null,
   "id": "4683ed2c-eecf-4817-a2bd-8c1bee1450a7",
   "metadata": {
    "colab": {
     "base_uri": "https://localhost:8080/"
    },
    "id": "4683ed2c-eecf-4817-a2bd-8c1bee1450a7",
    "outputId": "7b35c5fe-1cb9-4975-a33a-1ab56c5a3527"
   },
   "outputs": [
    {
     "name": "stdout",
     "output_type": "stream",
     "text": [
      "The result :\n",
      "              precision    recall  f1-score   support\n",
      "\n",
      "    Non-Spam       0.85      0.94      0.89        49\n",
      "        Spam       0.96      0.89      0.93        76\n",
      "\n",
      "    accuracy                           0.91       125\n",
      "   macro avg       0.90      0.92      0.91       125\n",
      "weighted avg       0.92      0.91      0.91       125\n",
      "\n"
     ]
    }
   ],
   "source": [
    "# Method 2 Support Vector Machine, word embedding, best parameters, undersampling dataset\n",
    "my_svm_em_best(data_under, data_test)"
   ]
  },
  {
   "cell_type": "code",
   "execution_count": null,
   "id": "0ac25499-8cc4-4d12-b9ca-dc00b60d46b3",
   "metadata": {
    "id": "0ac25499-8cc4-4d12-b9ca-dc00b60d46b3"
   },
   "outputs": [],
   "source": [
    "# Method 3 Random Forest : Tf-idf to determine best parameters, original dataset\n",
    "\n",
    "def my_rf(data1, data2):\n",
    "    pipe_1 = Pipeline(\n",
    "        [('tfidf', TfidfVectorizer()),\n",
    "         ('rf', RandomForestClassifier())])\n",
    "\n",
    "    param_1 = {\n",
    "        'tfidf__binary': (True, False),\n",
    "        'tfidf__ngram_range': ((1, 1), (1, 2)),\n",
    "        'rf__max_features': ('sqrt', 'log2'),\n",
    "        'rf__ccp_alpha' : (0.0, 0.5),\n",
    "        'rf__random_state' : (0, 1)}\n",
    "\n",
    "    grid_1 = GridSearchCV(pipe_1, param_1, cv = 5, verbose = 0, n_jobs = -1)\n",
    "    grid_1.fit(data1['Message_body'], data1['Label'])\n",
    "    test = grid_1.predict(X = data2['Message_body'])\n",
    "\n",
    "    print(\"The best model :\")\n",
    "    print(grid_1.best_params_)\n",
    "    print(\"The result :\")\n",
    "    print(clt(y_true = data2['Label'], y_pred = test))"
   ]
  },
  {
   "cell_type": "code",
   "execution_count": null,
   "id": "44284463-d6f5-4a08-af68-f1fd8f82f1bd",
   "metadata": {
    "colab": {
     "base_uri": "https://localhost:8080/"
    },
    "id": "44284463-d6f5-4a08-af68-f1fd8f82f1bd",
    "outputId": "c2760f0c-afb8-400f-f8aa-335a66a4e1f7"
   },
   "outputs": [
    {
     "name": "stdout",
     "output_type": "stream",
     "text": [
      "The best model :\n",
      "{'rf__ccp_alpha': 0.0, 'rf__max_features': 'sqrt', 'rf__random_state': 0, 'tfidf__binary': True, 'tfidf__ngram_range': (1, 1)}\n",
      "The result :\n",
      "              precision    recall  f1-score   support\n",
      "\n",
      "    Non-Spam       0.69      1.00      0.82        49\n",
      "        Spam       1.00      0.71      0.83        76\n",
      "\n",
      "    accuracy                           0.82       125\n",
      "   macro avg       0.85      0.86      0.82       125\n",
      "weighted avg       0.88      0.82      0.83       125\n",
      "\n"
     ]
    }
   ],
   "source": [
    "my_rf(data_ini, data_test)"
   ]
  },
  {
   "cell_type": "code",
   "execution_count": null,
   "id": "36bf634f-2fcc-4a7b-99e7-20772fba212f",
   "metadata": {
    "id": "36bf634f-2fcc-4a7b-99e7-20772fba212f"
   },
   "outputs": [],
   "source": [
    "# Method 3 Random Forest : Tf-idf， best parameters\n",
    "\n",
    "def my_rf_best(data1, data2):\n",
    "    \n",
    "    tfidfvec = TfidfVectorizer(binary = True, ngram_range = (1, 1))\n",
    "    rdf = RandomForestClassifier(ccp_alpha = 0.0, max_features = 'sqrt', random_state = 0)\n",
    "    \n",
    "    pipe = Pipeline(\n",
    "        [('tfidf', tfidfvec),\n",
    "         ('rf', rdf)])\n",
    "    pipe.fit(data1['Message_body'], data1['Label'])\n",
    "    test= pipe.predict(X = data2['Message_body'])\n",
    "    \n",
    "    print(\"The result :\")\n",
    "    print(clt(y_true = data2['Label'], y_pred = test))"
   ]
  },
  {
   "cell_type": "code",
   "execution_count": null,
   "id": "a60e5cee-23c4-48f6-b4cc-9f3e17dc5df0",
   "metadata": {
    "colab": {
     "base_uri": "https://localhost:8080/"
    },
    "id": "a60e5cee-23c4-48f6-b4cc-9f3e17dc5df0",
    "outputId": "3ba2d8dc-cec5-48b0-f1d7-fa16f7bad210"
   },
   "outputs": [
    {
     "name": "stdout",
     "output_type": "stream",
     "text": [
      "The result :\n",
      "              precision    recall  f1-score   support\n",
      "\n",
      "    Non-Spam       0.69      1.00      0.82        49\n",
      "        Spam       1.00      0.71      0.83        76\n",
      "\n",
      "    accuracy                           0.82       125\n",
      "   macro avg       0.85      0.86      0.82       125\n",
      "weighted avg       0.88      0.82      0.83       125\n",
      "\n"
     ]
    }
   ],
   "source": [
    "# Method 3 Random Forest : Tf-idf， best parameters, oversampling\n",
    "\n",
    "my_rf_best(data_over, data_test)"
   ]
  },
  {
   "cell_type": "code",
   "execution_count": null,
   "id": "4afd9f99-7a04-44e8-9147-e089ba89ac64",
   "metadata": {
    "colab": {
     "base_uri": "https://localhost:8080/"
    },
    "id": "4afd9f99-7a04-44e8-9147-e089ba89ac64",
    "outputId": "c5ff1ade-02fb-4568-db72-171944aca11a"
   },
   "outputs": [
    {
     "name": "stdout",
     "output_type": "stream",
     "text": [
      "The result :\n",
      "              precision    recall  f1-score   support\n",
      "\n",
      "    Non-Spam       0.75      1.00      0.86        49\n",
      "        Spam       1.00      0.79      0.88        76\n",
      "\n",
      "    accuracy                           0.87       125\n",
      "   macro avg       0.88      0.89      0.87       125\n",
      "weighted avg       0.90      0.87      0.87       125\n",
      "\n"
     ]
    }
   ],
   "source": [
    "## Method 3 Random Forest : Tf-idf， best parameters, undersampling\n",
    "\n",
    "my_rf_best(data_under, data_test)"
   ]
  },
  {
   "cell_type": "code",
   "execution_count": null,
   "id": "b96c8d3f-6d2c-4edd-9efc-eb10f4299f0f",
   "metadata": {
    "id": "b96c8d3f-6d2c-4edd-9efc-eb10f4299f0f"
   },
   "outputs": [],
   "source": [
    "# Method 3 Random Forest : words embedding, best parameters, original dataset \n",
    "\n",
    "def my_rf_em(data1, data2):\n",
    "    psv = PairedSentenceVectorizer()\n",
    "    x_em1 = psv.fit_transform(data1)\n",
    "    x_em2 = psv.fit_transform(data2)\n",
    "    pipe_1 = Pipeline([('rf', RandomForestClassifier())])\n",
    "\n",
    "    param_1 = {\n",
    "        'rf__max_features': ('sqrt', 'log2'),\n",
    "        'rf__ccp_alpha' : (0.0, 0.5),\n",
    "        'rf__random_state' : (1, 2)}\n",
    "\n",
    "    grid_1 = GridSearchCV(pipe_1, param_1, cv = 5, verbose = 0, n_jobs = -1)\n",
    "    grid_1.fit(x_em1, data1['Label'])\n",
    "    test = grid_1.predict(X = x_em2)\n",
    "\n",
    "    print(\"The best model :\")\n",
    "    print(grid_1.best_params_)\n",
    "    print(\"The result :\")\n",
    "    print(clt(y_true = data2['Label'], y_pred = test))"
   ]
  },
  {
   "cell_type": "code",
   "execution_count": null,
   "id": "88cf411a-5478-45a7-90a7-12d5994baa81",
   "metadata": {
    "colab": {
     "base_uri": "https://localhost:8080/"
    },
    "id": "88cf411a-5478-45a7-90a7-12d5994baa81",
    "outputId": "09f26fba-a988-434d-bd07-fbe3ebd856f8"
   },
   "outputs": [
    {
     "name": "stdout",
     "output_type": "stream",
     "text": [
      "The best model :\n",
      "{'rf__ccp_alpha': 0.0, 'rf__max_features': 'sqrt', 'rf__random_state': 2}\n",
      "The result :\n",
      "              precision    recall  f1-score   support\n",
      "\n",
      "    Non-Spam       0.69      1.00      0.82        49\n",
      "        Spam       1.00      0.71      0.83        76\n",
      "\n",
      "    accuracy                           0.82       125\n",
      "   macro avg       0.85      0.86      0.82       125\n",
      "weighted avg       0.88      0.82      0.83       125\n",
      "\n"
     ]
    }
   ],
   "source": [
    "my_rf_em(data_ini, data_test)"
   ]
  },
  {
   "cell_type": "code",
   "execution_count": null,
   "id": "cc51a9ed-e52e-4ab1-b86f-0593dbdfe37e",
   "metadata": {
    "id": "cc51a9ed-e52e-4ab1-b86f-0593dbdfe37e"
   },
   "outputs": [],
   "source": [
    "# Method 3 Random Forest : words embedding, best parameters\n",
    "def my_rf_em_best(data1, data2):\n",
    "    psv = PairedSentenceVectorizer()\n",
    "    x_em1 = psv.fit_transform(data1)\n",
    "    x_em2 = psv.fit_transform(data2)\n",
    "    rdf = RandomForestClassifier(ccp_alpha = 0.0, max_features = 'sqrt', random_state = 2)\n",
    "    pipe = Pipeline([('rf', rdf)])\n",
    "    pipe.fit(x_em1, data1['Label'])\n",
    "    test= pipe.predict(X = x_em2)\n",
    "    \n",
    "    print(\"The result :\")\n",
    "    print(clt(y_true = data2['Label'], y_pred = test))"
   ]
  },
  {
   "cell_type": "code",
   "execution_count": null,
   "id": "58fbe99a-ad96-4adf-8c60-426cce6e617d",
   "metadata": {
    "colab": {
     "base_uri": "https://localhost:8080/"
    },
    "id": "58fbe99a-ad96-4adf-8c60-426cce6e617d",
    "outputId": "c709db8c-237e-4c08-fdd3-46778df360de"
   },
   "outputs": [
    {
     "name": "stdout",
     "output_type": "stream",
     "text": [
      "The result :\n",
      "              precision    recall  f1-score   support\n",
      "\n",
      "    Non-Spam       0.69      1.00      0.82        49\n",
      "        Spam       1.00      0.71      0.83        76\n",
      "\n",
      "    accuracy                           0.82       125\n",
      "   macro avg       0.85      0.86      0.82       125\n",
      "weighted avg       0.88      0.82      0.83       125\n",
      "\n"
     ]
    }
   ],
   "source": [
    "# Method 3 Random Forest, word embedding, best parameters, oversampling dataset\n",
    "my_rf_em_best(data_over, data_test)"
   ]
  },
  {
   "cell_type": "code",
   "execution_count": null,
   "id": "6af86231-6f97-4185-ae98-0cb0996b626c",
   "metadata": {
    "colab": {
     "base_uri": "https://localhost:8080/"
    },
    "id": "6af86231-6f97-4185-ae98-0cb0996b626c",
    "outputId": "980f15f1-565a-4707-8d1a-d061f0ae36c0"
   },
   "outputs": [
    {
     "name": "stdout",
     "output_type": "stream",
     "text": [
      "The result :\n",
      "              precision    recall  f1-score   support\n",
      "\n",
      "    Non-Spam       0.90      0.96      0.93        49\n",
      "        Spam       0.97      0.93      0.95        76\n",
      "\n",
      "    accuracy                           0.94       125\n",
      "   macro avg       0.94      0.95      0.94       125\n",
      "weighted avg       0.95      0.94      0.94       125\n",
      "\n"
     ]
    }
   ],
   "source": [
    "# Method 3 Random Forest, word embedding, best parameters, undersampling dataset\n",
    "my_rf_em_best(data_under, data_test)"
   ]
  },
  {
   "cell_type": "code",
   "execution_count": 11,
   "id": "4eff353e-7b25-421c-afa0-d93f36bb175d",
   "metadata": {
    "id": "4eff353e-7b25-421c-afa0-d93f36bb175d"
   },
   "outputs": [],
   "source": [
    "# Method 4 RNN-LSTM : with pre_trained words embedding from spacy\n",
    "\n",
    "import os\n",
    "import warnings\n",
    "\n",
    "# Ignore FutureWarning from numpy\n",
    "warnings.simplefilter(action='ignore', category=FutureWarning)\n",
    "\n",
    "import keras.backend as K\n",
    "import tensorflow as tf\n",
    "\n",
    "os.environ[\"CUDA_DEVICE_ORDER\"]=\"PCI_BUS_ID\";\n",
    " \n",
    "# The GPU id to use, usually either \"0\" or \"1\";\n",
    "os.environ[\"CUDA_VISIBLE_DEVICES\"]=\"0\";\n",
    "\n",
    "# Allow growth of GPU memory, otherwise it will always look like all the memory is being used\n",
    "physical_devices = tf.config.experimental.list_physical_devices('GPU')\n",
    "tf.config.experimental.set_memory_growth(physical_devices[0], True) "
   ]
  },
  {
   "cell_type": "code",
   "execution_count": 12,
   "id": "70dfc6e7-bbff-4ac5-a724-e7a1168668db",
   "metadata": {
    "id": "70dfc6e7-bbff-4ac5-a724-e7a1168668db"
   },
   "outputs": [],
   "source": [
    "def word_index(data):\n",
    "    word_to_index = {}\n",
    "    for sentence in data['Message_body']:\n",
    "        for word in sentence.split():\n",
    "            if word not in word_to_index:\n",
    "                word_to_index[word] = len(word_to_index) + 1\n",
    "    return word_to_index"
   ]
  },
  {
   "cell_type": "code",
   "execution_count": 13,
   "id": "FE4XGD7aq7AV",
   "metadata": {
    "id": "FE4XGD7aq7AV"
   },
   "outputs": [],
   "source": [
    "def word_embedding(data):\n",
    "    embedding_matrix = np.zeros((len(data) + 1, 300))\n",
    "    for i, j in data.items():\n",
    "        embedding_matrix[j] = nlp.vocab[i].vector\n",
    "    return embedding_matrix"
   ]
  },
  {
   "cell_type": "code",
   "execution_count": 14,
   "id": "TRIM3KNQ7Pop",
   "metadata": {
    "id": "TRIM3KNQ7Pop"
   },
   "outputs": [],
   "source": [
    "# Method 4 RNN-LSTM with original dataset\n",
    "word_to_index_ini = word_index(data_ini)\n",
    "matrix_weight = word_embedding(word_to_index_ini)"
   ]
  },
  {
   "cell_type": "code",
   "execution_count": 62,
   "id": "18lQ3qBl1y77",
   "metadata": {
    "id": "18lQ3qBl1y77"
   },
   "outputs": [],
   "source": [
    "from tensorflow.keras.preprocessing.sequence import pad_sequences\n",
    "from tensorflow.keras.utils import to_categorical\n",
    "\n",
    "def encode(tagged_sentences, y, word_to_index):\n",
    "    X = []\n",
    "    for s in tagged_sentences:\n",
    "        Xcurrent = []\n",
    "        for p in s.split():\n",
    "            if p in word_to_index.keys():\n",
    "                Xcurrent.append(word_to_index[p])\n",
    "            else:\n",
    "                Xcurrent.append(0)\n",
    "        X.append(Xcurrent)\n",
    "    \n",
    "    X = pad_sequences(X)\n",
    "    Y = np.where(y == 'Spam', 1, 0)\n",
    "    Y = to_categorical(Y, num_classes = 2)\n",
    "\n",
    "    return X, Y\n",
    "\n",
    "\n",
    "X, Y = encode(data_ini['Message_body'], data_ini['Label'], word_to_index_ini)\n",
    "N, M = X.shape\n"
   ]
  },
  {
   "cell_type": "code",
   "execution_count": 63,
   "id": "MkA29a6ioqaG",
   "metadata": {
    "colab": {
     "base_uri": "https://localhost:8080/"
    },
    "id": "MkA29a6ioqaG",
    "outputId": "fda66f50-e312-46b7-ac47-cb0ddb2cb9a5"
   },
   "outputs": [
    {
     "name": "stdout",
     "output_type": "stream",
     "text": [
      "Model: \"sequential_3\"\n",
      "_________________________________________________________________\n",
      " Layer (type)                Output Shape              Param #   \n",
      "=================================================================\n",
      " embedding_3 (Embedding)     (None, 96, 300)           1458300   \n",
      "                                                                 \n",
      " bidirectional_3 (Bidirectio  (None, 200)              320800    \n",
      " nal)                                                            \n",
      "                                                                 \n",
      " dense_3 (Dense)             (None, 2)                 402       \n",
      "                                                                 \n",
      "=================================================================\n",
      "Total params: 1,779,502\n",
      "Trainable params: 321,202\n",
      "Non-trainable params: 1,458,300\n",
      "_________________________________________________________________\n"
     ]
    }
   ],
   "source": [
    "from tensorflow.keras import Sequential\n",
    "from tensorflow.keras.layers import Embedding, Bidirectional, LSTM, Dense, Flatten\n",
    "from keras.optimizers import rmsprop_v2\n",
    "from keras.optimizers import adam_v2\n",
    "from keras.losses import categorical_crossentropy\n",
    "\n",
    "embedding_dim = 300\n",
    "hidden_dim = 100\n",
    "\n",
    "model = Sequential()\n",
    "\n",
    "model.add(Embedding(len(word_to_index_ini) + 1, embedding_dim, \n",
    "                    weights = [matrix_weight], trainable = False, \n",
    "                    input_length = M))\n",
    "model.add(Bidirectional(LSTM(hidden_dim)))\n",
    "model.add(Dense(2, activation = 'softmax'))\n",
    "\n",
    "model.compile(optimizer = 'rmsprop', loss = categorical_crossentropy, metrics = ['acc'])\n",
    "\n",
    "model.summary()"
   ]
  },
  {
   "cell_type": "code",
   "execution_count": 64,
   "id": "wCxd2UgWprGF",
   "metadata": {
    "colab": {
     "base_uri": "https://localhost:8080/"
    },
    "id": "wCxd2UgWprGF",
    "outputId": "793f349f-a03d-4c72-c249-96373725dc4e"
   },
   "outputs": [
    {
     "name": "stdout",
     "output_type": "stream",
     "text": [
      "Epoch 1/10\n",
      "67/67 [==============================] - 16s 169ms/step - loss: 0.1751 - acc: 0.9402 - val_loss: 0.0929 - val_acc: 0.9722\n",
      "Epoch 2/10\n",
      "67/67 [==============================] - 10s 153ms/step - loss: 0.0887 - acc: 0.9791 - val_loss: 0.0992 - val_acc: 0.9653\n",
      "Epoch 3/10\n",
      "67/67 [==============================] - 11s 158ms/step - loss: 0.0572 - acc: 0.9806 - val_loss: 0.1054 - val_acc: 0.9688\n",
      "Epoch 4/10\n",
      "67/67 [==============================] - 11s 157ms/step - loss: 0.0340 - acc: 0.9940 - val_loss: 0.3723 - val_acc: 0.9340\n",
      "Epoch 5/10\n",
      "67/67 [==============================] - 10s 156ms/step - loss: 0.0305 - acc: 0.9910 - val_loss: 0.1135 - val_acc: 0.9722\n",
      "Epoch 6/10\n",
      "67/67 [==============================] - 10s 157ms/step - loss: 0.0308 - acc: 0.9910 - val_loss: 0.1084 - val_acc: 0.9757\n",
      "Epoch 7/10\n",
      "67/67 [==============================] - 10s 156ms/step - loss: 0.0167 - acc: 0.9985 - val_loss: 0.1480 - val_acc: 0.9722\n",
      "Epoch 8/10\n",
      "67/67 [==============================] - 10s 155ms/step - loss: 0.0058 - acc: 0.9985 - val_loss: 0.2000 - val_acc: 0.9688\n",
      "Epoch 9/10\n",
      "67/67 [==============================] - 10s 155ms/step - loss: 0.0038 - acc: 0.9985 - val_loss: 0.1678 - val_acc: 0.9722\n",
      "Epoch 10/10\n",
      "67/67 [==============================] - 10s 154ms/step - loss: 3.2121e-04 - acc: 1.0000 - val_loss: 0.2396 - val_acc: 0.9688\n"
     ]
    }
   ],
   "source": [
    "P = int(0.7 * N)\n",
    "X_val = X[P : ]\n",
    "Y_val = Y[P: ]\n",
    "X_train = X[0 : P]\n",
    "Y_train = Y[0 : P]\n",
    "\n",
    "batch_No = 10\n",
    "epo_No = 10\n",
    "\n",
    "history = model.fit(x = X_train, y = Y_train, batch_size = batch_No, \n",
    "                    epochs = epo_No, verbose = 1, validation_data = (X_val, Y_val))"
   ]
  },
  {
   "cell_type": "code",
   "execution_count": 17,
   "id": "zeyaYwK3pxRl",
   "metadata": {
    "id": "zeyaYwK3pxRl"
   },
   "outputs": [],
   "source": [
    "import matplotlib.pyplot as plt\n",
    "\n",
    "def plot_results(history):\n",
    "    \n",
    "    val_loss = history.history['val_loss']\n",
    "    acc = history.history['acc']\n",
    "    loss = history.history['loss']\n",
    "    val_acc = history.history['val_acc']\n",
    "    \n",
    "    plt.figure(figsize=(10,4))\n",
    "    plt.xlabel('Epochs')\n",
    "    plt.ylabel('Loss')\n",
    "    plt.plot(loss)\n",
    "    plt.plot(val_loss)\n",
    "    plt.legend(['Training','Validation'])\n",
    "\n",
    "    plt.figure(figsize=(10,4))\n",
    "    plt.xlabel('Epochs')\n",
    "    plt.ylabel('Accuracy')\n",
    "    plt.plot(acc)\n",
    "    plt.plot(val_acc)\n",
    "    plt.legend(['Training','Validation'])\n",
    "\n",
    "    plt.show()"
   ]
  },
  {
   "cell_type": "code",
   "execution_count": 65,
   "id": "E8upIrfwGy3g",
   "metadata": {
    "colab": {
     "base_uri": "https://localhost:8080/",
     "height": 541
    },
    "id": "E8upIrfwGy3g",
    "outputId": "790c51bd-4b57-4314-b92e-6f3c07dfab2a"
   },
   "outputs": [
    {
     "data": {
      "image/png": "[encoded data removed]",
      "text/plain": [
       "<Figure size 720x288 with 1 Axes>"
      ]
     },
     "metadata": {
      "needs_background": "light"
     },
     "output_type": "display_data"
    },
    {
     "data": {
      "image/png": "[encoded data removed]",
      "text/plain": [
       "<Figure size 720x288 with 1 Axes>"
      ]
     },
     "metadata": {
      "needs_background": "light"
     },
     "output_type": "display_data"
    }
   ],
   "source": [
    "plot_results(history)"
   ]
  },
  {
   "cell_type": "code",
   "execution_count": 77,
   "id": "1olhY60vH9r6",
   "metadata": {
    "colab": {
     "base_uri": "https://localhost:8080/"
    },
    "id": "1olhY60vH9r6",
    "outputId": "3f19280c-b153-4bd5-f457-21c79459feb5"
   },
   "outputs": [
    {
     "name": "stdout",
     "output_type": "stream",
     "text": [
      "Epoch 1/5\n",
      "67/67 [==============================] - 11s 157ms/step - loss: 5.3126e-06 - acc: 1.0000 - val_loss: 0.3933 - val_acc: 0.9722\n",
      "Epoch 2/5\n",
      "67/67 [==============================] - 10s 156ms/step - loss: 3.4640e-07 - acc: 1.0000 - val_loss: 0.3882 - val_acc: 0.9722\n",
      "Epoch 3/5\n",
      "67/67 [==============================] - 10s 156ms/step - loss: 2.6710e-07 - acc: 1.0000 - val_loss: 0.3653 - val_acc: 0.9722\n",
      "Epoch 4/5\n",
      "67/67 [==============================] - 11s 158ms/step - loss: 1.6055e-07 - acc: 1.0000 - val_loss: 0.3797 - val_acc: 0.9757\n",
      "Epoch 5/5\n",
      "67/67 [==============================] - 10s 156ms/step - loss: 8.3036e-08 - acc: 1.0000 - val_loss: 0.3837 - val_acc: 0.9757\n"
     ]
    }
   ],
   "source": [
    "batch_No = 10\n",
    "epo_No = 5\n",
    "\n",
    "history = model.fit(x = X_train, y = Y_train, batch_size = batch_No, \n",
    "                    epochs = epo_No, verbose = 1, \n",
    "                    validation_data = (X_val, Y_val))"
   ]
  },
  {
   "cell_type": "code",
   "execution_count": 78,
   "id": "Zzu5ZuZCp12l",
   "metadata": {
    "colab": {
     "base_uri": "https://localhost:8080/"
    },
    "id": "Zzu5ZuZCp12l",
    "outputId": "8b01e91b-ba80-44f2-8d46-6fd5706dd7ea"
   },
   "outputs": [
    {
     "name": "stdout",
     "output_type": "stream",
     "text": [
      "Test loss: 0.9669\n",
      "Test accuracy: 0.9200\n"
     ]
    }
   ],
   "source": [
    "X_test, Y_test = encode(data_test['Message_body'], data_test['Label'], word_to_index_ini)\n",
    "X_test_1 = np.concatenate((X_test, np.zeros((125, 44))), axis = 1)\n",
    "score = model.evaluate(X_test_1, Y_test, verbose = 0)\n",
    "\n",
    "print('Test loss: %.4f' % score[0])\n",
    "print('Test accuracy: %.4f' % score[1])"
   ]
  },
  {
   "cell_type": "code",
   "execution_count": 18,
   "id": "y7YRvcVMU8KH",
   "metadata": {
    "id": "y7YRvcVMU8KH"
   },
   "outputs": [],
   "source": [
    "# Method 4 RNN-LSTM with undersampling dataset\n",
    "\n",
    "word_to_index_under = word_index(data_under)\n",
    "matrix_weight_under = word_embedding(word_to_index_under)\n",
    "X_under, Y_under = encode(data_under['Message_body'], data_under['Label'], word_to_index_under)\n",
    "N_under, M_under = X_under.shape\n"
   ]
  },
  {
   "cell_type": "code",
   "execution_count": 19,
   "id": "BstdjIEIVxn2",
   "metadata": {
    "id": "BstdjIEIVxn2"
   },
   "outputs": [],
   "source": [
    "model_under = Sequential()\n",
    "\n",
    "model_under.add(Embedding(len(word_to_index_under) + 1, embedding_dim, \n",
    "                    weights = [matrix_weight_under], trainable = False, \n",
    "                    input_length = M_under))\n",
    "model_under.add(Bidirectional(LSTM(hidden_dim)))\n",
    "model_under.add(Dense(2, activation = 'softmax'))\n",
    "\n",
    "model_under.compile(optimizer = 'rmsprop', loss = categorical_crossentropy, metrics = ['acc'])"
   ]
  },
  {
   "cell_type": "code",
   "execution_count": 27,
   "id": "DytRz_leNRkX",
   "metadata": {
    "colab": {
     "base_uri": "https://localhost:8080/"
    },
    "id": "DytRz_leNRkX",
    "outputId": "061dfaf5-8a15-4bdc-8f5e-09a3f97186b4"
   },
   "outputs": [
    {
     "name": "stdout",
     "output_type": "stream",
     "text": [
      "Epoch 1/10\n",
      "17/17 [==============================] - 2s 95ms/step - loss: 0.0048 - acc: 1.0000 - val_loss: 0.0902 - val_acc: 0.9730\n",
      "Epoch 2/10\n",
      "17/17 [==============================] - 2s 91ms/step - loss: 0.0052 - acc: 1.0000 - val_loss: 0.1213 - val_acc: 0.9595\n",
      "Epoch 3/10\n",
      "17/17 [==============================] - 2s 90ms/step - loss: 0.0037 - acc: 1.0000 - val_loss: 0.1334 - val_acc: 0.9459\n",
      "Epoch 4/10\n",
      "17/17 [==============================] - 1s 89ms/step - loss: 0.0027 - acc: 1.0000 - val_loss: 0.1260 - val_acc: 0.9459\n",
      "Epoch 5/10\n",
      "17/17 [==============================] - 1s 88ms/step - loss: 0.0741 - acc: 0.9882 - val_loss: 0.1233 - val_acc: 0.9595\n",
      "Epoch 6/10\n",
      "17/17 [==============================] - 1s 89ms/step - loss: 0.0023 - acc: 1.0000 - val_loss: 0.1414 - val_acc: 0.9730\n",
      "Epoch 7/10\n",
      "17/17 [==============================] - 2s 89ms/step - loss: 0.0015 - acc: 1.0000 - val_loss: 0.1045 - val_acc: 0.9730\n",
      "Epoch 8/10\n",
      "17/17 [==============================] - 2s 93ms/step - loss: 0.0013 - acc: 1.0000 - val_loss: 0.0981 - val_acc: 0.9730\n",
      "Epoch 9/10\n",
      "17/17 [==============================] - 1s 88ms/step - loss: 0.0015 - acc: 1.0000 - val_loss: 0.0561 - val_acc: 0.9865\n",
      "Epoch 10/10\n",
      "17/17 [==============================] - 1s 89ms/step - loss: 5.8760e-04 - acc: 1.0000 - val_loss: 0.2495 - val_acc: 0.9459\n"
     ]
    }
   ],
   "source": [
    "P_under = int(0.7 * N_under)\n",
    "X_val_under = X_under[P_under : ]\n",
    "Y_val_under = Y_under[P_under: ]\n",
    "X_train_under = X_under[0 : P_under]\n",
    "Y_train_under = Y_under[0 : P_under]\n",
    "\n",
    "batch_No = 10\n",
    "epo_No = 10\n",
    "\n",
    "history_under = model_under.fit(x = X_train_under, y = Y_train_under, batch_size = batch_No, \n",
    "                    epochs = epo_No, verbose = 1, \n",
    "                    validation_data = (X_val_under, Y_val_under))"
   ]
  },
  {
   "cell_type": "code",
   "execution_count": 28,
   "id": "JPPPcQ3JwGeO",
   "metadata": {
    "colab": {
     "base_uri": "https://localhost:8080/",
     "height": 541
    },
    "id": "JPPPcQ3JwGeO",
    "outputId": "63ed78dc-3ca6-48c7-bb48-282586c14ec0"
   },
   "outputs": [
    {
     "data": {
      "image/png": "[encoded data removed]",
      "text/plain": [
       "<Figure size 720x288 with 1 Axes>"
      ]
     },
     "metadata": {
      "needs_background": "light"
     },
     "output_type": "display_data"
    },
    {
     "data": {
      "image/png": "[encoded data removed]",
      "text/plain": [
       "<Figure size 720x288 with 1 Axes>"
      ]
     },
     "metadata": {
      "needs_background": "light"
     },
     "output_type": "display_data"
    }
   ],
   "source": [
    "plot_results(history_under)"
   ]
  },
  {
   "cell_type": "code",
   "execution_count": 32,
   "id": "bqQKpgqKwTX1",
   "metadata": {
    "colab": {
     "base_uri": "https://localhost:8080/"
    },
    "id": "bqQKpgqKwTX1",
    "outputId": "589950b9-c98d-4186-a683-6405a5e60b74"
   },
   "outputs": [
    {
     "name": "stdout",
     "output_type": "stream",
     "text": [
      "Epoch 1/8\n",
      "17/17 [==============================] - 2s 101ms/step - loss: 0.0029 - acc: 1.0000 - val_loss: 0.1888 - val_acc: 0.9459\n",
      "Epoch 2/8\n",
      "17/17 [==============================] - 2s 91ms/step - loss: 4.6525e-04 - acc: 1.0000 - val_loss: 0.1516 - val_acc: 0.9459\n",
      "Epoch 3/8\n",
      "17/17 [==============================] - 2s 91ms/step - loss: 2.9108e-04 - acc: 1.0000 - val_loss: 0.1002 - val_acc: 0.9730\n",
      "Epoch 4/8\n",
      "17/17 [==============================] - 2s 93ms/step - loss: 2.7945e-04 - acc: 1.0000 - val_loss: 0.0711 - val_acc: 0.9865\n",
      "Epoch 5/8\n",
      "17/17 [==============================] - 2s 92ms/step - loss: 1.7072e-04 - acc: 1.0000 - val_loss: 0.3662 - val_acc: 0.9459\n",
      "Epoch 6/8\n",
      "17/17 [==============================] - 1s 89ms/step - loss: 6.6754e-05 - acc: 1.0000 - val_loss: 0.2804 - val_acc: 0.9459\n",
      "Epoch 7/8\n",
      "17/17 [==============================] - 1s 87ms/step - loss: 1.7313e-05 - acc: 1.0000 - val_loss: 0.2052 - val_acc: 0.9595\n",
      "Epoch 8/8\n",
      "17/17 [==============================] - 1s 87ms/step - loss: 1.0597e-05 - acc: 1.0000 - val_loss: 0.2698 - val_acc: 0.9595\n"
     ]
    },
    {
     "data": {
      "text/plain": [
       "<keras.callbacks.History at 0x7fef9d933c90>"
      ]
     },
     "execution_count": 32,
     "metadata": {},
     "output_type": "execute_result"
    }
   ],
   "source": [
    "batch_No = 10\n",
    "epo_No = 8\n",
    "\n",
    "model_under.fit(x = X_train_under, y = Y_train_under, batch_size = batch_No, \n",
    "                    epochs = epo_No, verbose = 1, \n",
    "                    validation_data = (X_val_under, Y_val_under))"
   ]
  },
  {
   "cell_type": "code",
   "execution_count": 33,
   "id": "VVEXL427wW5R",
   "metadata": {
    "colab": {
     "base_uri": "https://localhost:8080/"
    },
    "id": "VVEXL427wW5R",
    "outputId": "9d30ab7b-b680-4205-cb39-bbc135471d1f"
   },
   "outputs": [
    {
     "name": "stdout",
     "output_type": "stream",
     "text": [
      "Test loss: 0.3748\n",
      "Test accuracy: 0.9600\n"
     ]
    }
   ],
   "source": [
    "X_test, Y_test = encode(data_test['Message_body'], data_test['Label'], word_to_index_under)\n",
    "X_test_under = np.concatenate((X_test, np.zeros((125, 9))), axis = 1)\n",
    "score_under = model_under.evaluate(X_test_under, Y_test, verbose = 0)\n",
    "\n",
    "print('Test loss: %.4f' % score_under[0])\n",
    "print('Test accuracy: %.4f' % score_under[1])"
   ]
  },
  {
   "cell_type": "code",
   "execution_count": 79,
   "id": "l3HUscWWz0g4",
   "metadata": {
    "id": "l3HUscWWz0g4"
   },
   "outputs": [],
   "source": [
    "# Method 4 RNN-LSTM with oversampling dataset\n",
    "\n",
    "word_to_index_over = word_index(data_over)\n",
    "matrix_weight_over = word_embedding(word_to_index_over)\n",
    "X_over, Y_over = encode(data_over['Message_body'], data_over['Label'], word_to_index_over)\n",
    "N_over, M_over = X_over.shape"
   ]
  },
  {
   "cell_type": "code",
   "execution_count": 80,
   "id": "VntqN8OHz0ml",
   "metadata": {
    "id": "VntqN8OHz0ml"
   },
   "outputs": [],
   "source": [
    "model_over = Sequential()\n",
    "\n",
    "model_over.add(Embedding(len(word_to_index_over) + 1, embedding_dim, \n",
    "                    weights = [matrix_weight_over], trainable = False, \n",
    "                    input_length = M_over))\n",
    "model_over.add(Bidirectional(LSTM(hidden_dim)))\n",
    "model_over.add(Dense(2, activation = 'softmax'))\n",
    "\n",
    "model_over.compile(optimizer = 'rmsprop', loss = categorical_crossentropy, metrics = ['acc'])"
   ]
  },
  {
   "cell_type": "code",
   "execution_count": 81,
   "id": "YBbDHVKUz0sY",
   "metadata": {
    "colab": {
     "base_uri": "https://localhost:8080/"
    },
    "id": "YBbDHVKUz0sY",
    "outputId": "564a92f1-6f6d-4c4c-e9bf-de0353aaede7"
   },
   "outputs": [
    {
     "name": "stdout",
     "output_type": "stream",
     "text": [
      "Epoch 1/10\n",
      "117/117 [==============================] - 23s 162ms/step - loss: 0.1638 - acc: 0.9401 - val_loss: 0.0526 - val_acc: 0.9721\n",
      "Epoch 2/10\n",
      "117/117 [==============================] - 18s 152ms/step - loss: 0.0693 - acc: 0.9795 - val_loss: 0.2366 - val_acc: 0.9082\n",
      "Epoch 3/10\n",
      "117/117 [==============================] - 18s 151ms/step - loss: 0.0374 - acc: 0.9897 - val_loss: 0.0542 - val_acc: 0.9900\n",
      "Epoch 4/10\n",
      "117/117 [==============================] - 18s 150ms/step - loss: 0.0233 - acc: 0.9914 - val_loss: 0.0039 - val_acc: 1.0000\n",
      "Epoch 5/10\n",
      "117/117 [==============================] - 18s 156ms/step - loss: 0.0061 - acc: 0.9991 - val_loss: 2.6830e-04 - val_acc: 1.0000\n",
      "Epoch 6/10\n",
      "117/117 [==============================] - 18s 152ms/step - loss: 0.0229 - acc: 0.9966 - val_loss: 0.0019 - val_acc: 1.0000\n",
      "Epoch 7/10\n",
      "117/117 [==============================] - 18s 153ms/step - loss: 0.0061 - acc: 0.9983 - val_loss: 0.0136 - val_acc: 0.9820\n",
      "Epoch 8/10\n",
      "117/117 [==============================] - 18s 154ms/step - loss: 1.8377e-04 - acc: 1.0000 - val_loss: 0.0185 - val_acc: 0.9940\n",
      "Epoch 9/10\n",
      "117/117 [==============================] - 18s 153ms/step - loss: 0.0037 - acc: 0.9983 - val_loss: 0.0248 - val_acc: 0.9880\n",
      "Epoch 10/10\n",
      "117/117 [==============================] - 18s 153ms/step - loss: 1.6093e-05 - acc: 1.0000 - val_loss: 0.1009 - val_acc: 0.9820\n"
     ]
    }
   ],
   "source": [
    "P_over = int(0.7 * N_over)\n",
    "X_val_over = X_over[P_over : ]\n",
    "Y_val_over = Y_over[P_over: ]\n",
    "X_train_over = X_over[0 : P_over]\n",
    "Y_train_over = Y_over[0 : P_over]\n",
    "\n",
    "batch_No = 10\n",
    "epo_No = 10\n",
    "\n",
    "history_over = model_over.fit(x = X_train_over, y = Y_train_over, batch_size = batch_No, \n",
    "                    epochs = epo_No, verbose = 1, \n",
    "                    validation_data = (X_val_over, Y_val_over))"
   ]
  },
  {
   "cell_type": "code",
   "execution_count": 82,
   "id": "CXnqnPXiz0xn",
   "metadata": {
    "colab": {
     "base_uri": "https://localhost:8080/",
     "height": 541
    },
    "id": "CXnqnPXiz0xn",
    "outputId": "c1246c8a-362e-489c-e804-c5954109c482"
   },
   "outputs": [
    {
     "data": {
      "image/png": "[encoded data removed]",
      "text/plain": [
       "<Figure size 720x288 with 1 Axes>"
      ]
     },
     "metadata": {
      "needs_background": "light"
     },
     "output_type": "display_data"
    },
    {
     "data": {
      "image/png": "[encoded data removed]",
      "text/plain": [
       "<Figure size 720x288 with 1 Axes>"
      ]
     },
     "metadata": {
      "needs_background": "light"
     },
     "output_type": "display_data"
    }
   ],
   "source": [
    "plot_results(history_under)"
   ]
  },
  {
   "cell_type": "code",
   "execution_count": 83,
   "id": "WwnR4M_B9mWC",
   "metadata": {
    "colab": {
     "base_uri": "https://localhost:8080/"
    },
    "id": "WwnR4M_B9mWC",
    "outputId": "a77c761f-64dd-4209-a773-cbae65b09188"
   },
   "outputs": [
    {
     "name": "stdout",
     "output_type": "stream",
     "text": [
      "Epoch 1/8\n",
      "117/117 [==============================] - 19s 159ms/step - loss: 0.0015 - acc: 0.9991 - val_loss: 0.2115 - val_acc: 0.9820\n",
      "Epoch 2/8\n",
      "117/117 [==============================] - 18s 156ms/step - loss: 3.0681e-06 - acc: 1.0000 - val_loss: 0.1815 - val_acc: 0.9820\n",
      "Epoch 3/8\n",
      "117/117 [==============================] - 18s 157ms/step - loss: 0.0077 - acc: 0.9991 - val_loss: 5.2347e-08 - val_acc: 1.0000\n",
      "Epoch 4/8\n",
      "117/117 [==============================] - 18s 154ms/step - loss: 0.0327 - acc: 0.9983 - val_loss: 4.5053e-06 - val_acc: 1.0000\n",
      "Epoch 5/8\n",
      "117/117 [==============================] - 18s 153ms/step - loss: 4.9773e-07 - acc: 1.0000 - val_loss: 2.7713e-06 - val_acc: 1.0000\n",
      "Epoch 6/8\n",
      "117/117 [==============================] - 18s 152ms/step - loss: 0.0184 - acc: 0.9966 - val_loss: 0.0887 - val_acc: 0.9820\n",
      "Epoch 7/8\n",
      "117/117 [==============================] - 18s 151ms/step - loss: 8.9304e-07 - acc: 1.0000 - val_loss: 0.0799 - val_acc: 0.9940\n",
      "Epoch 8/8\n",
      "117/117 [==============================] - 18s 153ms/step - loss: 2.3321e-07 - acc: 1.0000 - val_loss: 0.0699 - val_acc: 0.9940\n"
     ]
    },
    {
     "data": {
      "text/plain": [
       "<keras.callbacks.History at 0x7fef994b5950>"
      ]
     },
     "execution_count": 83,
     "metadata": {},
     "output_type": "execute_result"
    }
   ],
   "source": [
    "batch_No = 10\n",
    "epo_No = 8\n",
    "\n",
    "model_over.fit(x = X_train_over, y = Y_train_over, batch_size = batch_No, \n",
    "                    epochs = epo_No, verbose = 1, \n",
    "                    validation_data = (X_val_over, Y_val_over))"
   ]
  },
  {
   "cell_type": "code",
   "execution_count": 84,
   "id": "7w3306lP9nNS",
   "metadata": {
    "colab": {
     "base_uri": "https://localhost:8080/"
    },
    "id": "7w3306lP9nNS",
    "outputId": "6e15c930-6474-4af0-c5df-4649ec49f76f"
   },
   "outputs": [
    {
     "name": "stdout",
     "output_type": "stream",
     "text": [
      "Test loss: 0.9282\n",
      "Test accuracy: 0.9280\n"
     ]
    }
   ],
   "source": [
    "X_test, Y_test = encode(data_test['Message_body'], data_test['Label'], word_to_index_over)\n",
    "X_test_over = np.concatenate((X_test, np.zeros((125, 44))), axis = 1)\n",
    "score_over = model_over.evaluate(X_test_over, Y_test, verbose = 0)\n",
    "\n",
    "print('Test loss: %.4f' % score_over[0])\n",
    "print('Test accuracy: %.4f' % score_over[1])"
   ]
  }
 ],
 "metadata": {
  "accelerator": "GPU",
  "colab": {
   "name": "project.ipynb",
   "provenance": []
  },
  "kernelspec": {
   "display_name": "Python 3 (ipykernel)",
   "language": "python",
   "name": "python3"
  },
  "language_info": {
   "codemirror_mode": {
    "name": "ipython",
    "version": 3
   },
   "file_extension": ".py",
   "mimetype": "text/x-python",
   "name": "python",
   "nbconvert_exporter": "python",
   "pygments_lexer": "ipython3",
   "version": "3.8.12"
  }
 },
 "nbformat": 4,
 "nbformat_minor": 5
}
